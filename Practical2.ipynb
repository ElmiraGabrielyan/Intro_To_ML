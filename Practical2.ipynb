{
 "cells": [
  {
   "cell_type": "markdown",
   "metadata": {},
   "source": [
    "### Practical2 \n",
    "### Exercise 1"
   ]
  },
  {
   "cell_type": "raw",
   "metadata": {},
   "source": [
    "Create a function that takes 3 integers as arguments and returns their average value.\n"
   ]
  },
  {
   "cell_type": "code",
   "execution_count": 60,
   "metadata": {},
   "outputs": [
    {
     "name": "stdout",
     "output_type": "stream",
     "text": [
      "The average is 7\n"
     ]
    }
   ],
   "source": [
    "def sum(x,y,z):\n",
    "    sum = x+y+z   \n",
    "    avg = sum/3\n",
    "    return avg\n",
    "\n",
    "print(\"The average is\", int(sum(1,17,3)))"
   ]
  },
  {
   "cell_type": "markdown",
   "metadata": {},
   "source": [
    "### Exercise 2"
   ]
  },
  {
   "cell_type": "markdown",
   "metadata": {},
   "source": [
    "Create a function that takes a list of integers as an argument and returns the number of\n",
    "even values in the given list."
   ]
  },
  {
   "cell_type": "code",
   "execution_count": 64,
   "metadata": {},
   "outputs": [],
   "source": [
    "list1 = [1,2,3,4,5,6,7,8,9]"
   ]
  },
  {
   "cell_type": "code",
   "execution_count": 67,
   "metadata": {},
   "outputs": [
    {
     "data": {
      "text/plain": [
       "[1, 3, 5, 7, 9]"
      ]
     },
     "execution_count": 67,
     "metadata": {},
     "output_type": "execute_result"
    }
   ],
   "source": [
    "list(filter(lambda x: x%2!=0,list1))"
   ]
  },
  {
   "cell_type": "markdown",
   "metadata": {},
   "source": [
    "### Exercise 3\n"
   ]
  },
  {
   "cell_type": "raw",
   "metadata": {},
   "source": [
    "Create a function that takes one required argument name of type String and an\n",
    "undefined number of optional non-keyword arguments. \n",
    "\n",
    "The function should calculate the average value of the optional arguments (if at least one optional argument is given) \n",
    "and print the following: \n",
    "\n",
    "if at least one optional argument is given print “X, your average grade\n",
    "is: Y”, where X is the value of the argument name and Y is the average value of the\n",
    "optional arguments. \n",
    "Otherwise, print “No grades available for X”, where X is the value of\n",
    "the argument name."
   ]
  },
  {
   "cell_type": "code",
   "execution_count": 18,
   "metadata": {},
   "outputs": [],
   "source": [
    "def function1(name=\"\", *args):\n",
    "    name=\"X\"\n",
    "    Y=[*args]\n",
    "    return statistics.mean(Y)\n",
    "    for arg in Y :\n",
    "        if Y is not None and len(Y) >= 1:\n",
    "            print( X +'your average gradeis:'+Y)\n",
    "        else:\n",
    "            print('No grades available for' + X)\n",
    "    \n"
   ]
  },
  {
   "cell_type": "markdown",
   "metadata": {},
   "source": [
    "### Exercise 4"
   ]
  },
  {
   "cell_type": "raw",
   "metadata": {},
   "source": [
    "Create the class Circle with attributes radius and color. \n",
    "Inside your class, create the method getDesc(self) which should print the text “A color circle with radius radius.”,\n",
    "using the values of the corresponding attributes.\n",
    "Create class object(s) and test your class."
   ]
  },
  {
   "cell_type": "code",
   "execution_count": 15,
   "metadata": {},
   "outputs": [
    {
     "name": "stdout",
     "output_type": "stream",
     "text": [
      "A red circle with4 radius.\n"
     ]
    }
   ],
   "source": [
    "class Circle:\n",
    "    is_shape = True\n",
    "    radius, color = 0, \"\"\n",
    "    \n",
    "    def __init__(self,radius,color):\n",
    "        self.radius = radius\n",
    "        self.color = color\n",
    "        \n",
    "    def getDesc(self):\n",
    "        print(\"A \" + str(self.color)+ \" circle\" + \" with\" + str(self.radius) + \" radius.\")\n",
    "        \n",
    "        \n",
    "    \n",
    "first_circle = Circle(4,'red')\n",
    "first_circle.getDesc()"
   ]
  },
  {
   "cell_type": "markdown",
   "metadata": {},
   "source": [
    "### Exercise 5"
   ]
  },
  {
   "cell_type": "raw",
   "metadata": {},
   "source": [
    "Create the class Employee, which has the following attributes: name, last_name and a\n",
    "private attribute monthly_salary. \n",
    "\n",
    "Inside your class, create the method getFullName(self), \n",
    "\n",
    "which will return “name last_name”, using the values of the corresponding attributes. \n",
    "\n",
    "Create the method annualSalary(self), which will calculate the annual salary of the employee, using the values of the corresponding attributes and will return \n",
    "\n",
    "“High” in case the salary is >100 and “Low”, otherwise.\n",
    "\n",
    "Create class object(s) and test your class."
   ]
  },
  {
   "cell_type": "code",
   "execution_count": 33,
   "metadata": {},
   "outputs": [
    {
     "name": "stdout",
     "output_type": "stream",
     "text": [
      "Nane Smith\n",
      "high\n"
     ]
    }
   ],
   "source": [
    "class Employee:\n",
    "    def __init__(self,name,last_name,monthly_salary):\n",
    "        self.name = name\n",
    "        self.last_name = last_name\n",
    "        self.__monthly_salary = monthly_salary\n",
    "        \n",
    "    def getFullName(self):\n",
    "         print(self.name, self.last_name)\n",
    "        \n",
    "    def annualSalary(self):\n",
    "        annualsalary = int(self.__monthly_salary*12)\n",
    "        if annualsalary>100:\n",
    "            print(\"high\")\n",
    "        else:\n",
    "            print(\"low\")\n",
    "\n",
    "emp1 = Employee(\"Nane\", \"Smith\", 78)\n",
    "\n",
    "emp1.getFullName()\n",
    "emp1.annualSalary()\n",
    "\n",
    "            "
   ]
  },
  {
   "cell_type": "markdown",
   "metadata": {},
   "source": [
    "### Exercise 6"
   ]
  },
  {
   "cell_type": "raw",
   "metadata": {},
   "source": [
    "Create the class Car with the following attributes: model, color and max_speed. \n",
    "\n",
    "Inside the class, create the method compareCar(self, car2) which gets an object of type \n",
    "Car as an argument and \n",
    "returns the text “car1 is better than car2” \n",
    "\n",
    "if the maxSpeed attribute of your car is larger than the maxSpeed attribute of car2 and returns the text “car2 is\n",
    "better than car1”՝ otherwise.\n",
    "Create class object(s) and test your class."
   ]
  },
  {
   "cell_type": "code",
   "execution_count": 75,
   "metadata": {},
   "outputs": [],
   "source": [
    "class Car:\n",
    "    \n",
    "    def __init__(self,model,color,max_speed):\n",
    "        self.model = model\n",
    "        self.color = color\n",
    "        self.max_speed = max_speed\n",
    "        \n",
    "    def compareCar(self,car2):\n",
    "        \n",
    "        if self.max_speed > car2.max_speed:\n",
    "                print(\"car1 is better than car2\")\n",
    "        else:\n",
    "                print(\"car2 is better than car1\")\n",
    "            \n",
    "    "
   ]
  },
  {
   "cell_type": "code",
   "execution_count": 76,
   "metadata": {},
   "outputs": [
    {
     "name": "stdout",
     "output_type": "stream",
     "text": [
      "car1 is better than car2\n"
     ]
    }
   ],
   "source": [
    "car1 = Car(\"porsche Panamera\", \"black\", 200)\n",
    "car2 = Car(\"Porsche 911\", \"gray\", 180)\n",
    "car1.compareCar(car2)"
   ]
  },
  {
   "cell_type": "markdown",
   "metadata": {},
   "source": [
    "#### Exercise 7"
   ]
  },
  {
   "cell_type": "raw",
   "metadata": {},
   "source": [
    "Create the class Animal.\n",
    "Attributes: name\n",
    "Methods: __init__(self, name) -> creates the attribute name\n",
    "move(self) -> prints “I can move”\n",
    "\n",
    "Create the class Dog which inherits from the class Animal.\n",
    "Attributes: -\n",
    "Methods: __init__(self) -> calls the __init__ method of the Animal with a value “Dog”\n",
    "\n",
    "Create an object of class Dog and$ call the method move() from the object.\n",
    "Now, add a method move(), which prints “I can run really fast”.\n",
    "Create an object of class Dog and call the method move() from the object."
   ]
  },
  {
   "cell_type": "code",
   "execution_count": 22,
   "metadata": {},
   "outputs": [],
   "source": [
    "class Animal:\n",
    "    def __init__(self,name):\n",
    "        self.name=name\n",
    "    def move(self):\n",
    "        print(\"I can move\")\n",
    "    \n",
    "class Dog(Animal):\n",
    "    def __init__(self,name):\n",
    "        \n",
    "        def move(self):\n",
    "            print(\"I can run really fast\")\n"
   ]
  },
  {
   "cell_type": "code",
   "execution_count": 25,
   "metadata": {},
   "outputs": [
    {
     "name": "stdout",
     "output_type": "stream",
     "text": [
      "I can move\n"
     ]
    }
   ],
   "source": [
    "Animal1 = Dog(\"Sharik\")\n",
    "\n",
    "Animal1.move()\n"
   ]
  }
 ],
 "metadata": {
  "kernelspec": {
   "display_name": "Python 3",
   "language": "python",
   "name": "python3"
  },
  "language_info": {
   "codemirror_mode": {
    "name": "ipython",
    "version": 3
   },
   "file_extension": ".py",
   "mimetype": "text/x-python",
   "name": "python",
   "nbconvert_exporter": "python",
   "pygments_lexer": "ipython3",
   "version": "3.7.6"
  }
 },
 "nbformat": 4,
 "nbformat_minor": 4
}
