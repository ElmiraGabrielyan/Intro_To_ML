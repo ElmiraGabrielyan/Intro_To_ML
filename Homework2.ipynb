{
 "cells": [
  {
   "cell_type": "markdown",
   "metadata": {},
   "source": [
    "### Exercise 1\n"
   ]
  },
  {
   "cell_type": "raw",
   "metadata": {},
   "source": [
    "Create the function my_max which gets an undefined number of non-keyword\n",
    "arguments and returns the maximum of those. \n",
    "In case the function is called without arguments, it should return the text “no numbers given”. Don’t use the in-built functions for calculating the maximum value."
   ]
  },
  {
   "cell_type": "code",
   "execution_count": 157,
   "metadata": {},
   "outputs": [],
   "source": [
    "def my_max(*args):\n",
    "    if not args: \n",
    "         print(\"no numbers given\") \n",
    "    else: \n",
    "        print(max(args))\n",
    "        "
   ]
  },
  {
   "cell_type": "code",
   "execution_count": 158,
   "metadata": {},
   "outputs": [
    {
     "name": "stdout",
     "output_type": "stream",
     "text": [
      "3\n"
     ]
    }
   ],
   "source": [
    "my_max(1,2,3)"
   ]
  },
  {
   "cell_type": "markdown",
   "metadata": {},
   "source": [
    "### Exercise 2"
   ]
  },
  {
   "cell_type": "raw",
   "metadata": {},
   "source": [
    "Create a function that gets a list as an argument and returns a new list, which contains\n",
    "only the unique values from the original list.\n"
   ]
  },
  {
   "cell_type": "code",
   "execution_count": 1,
   "metadata": {},
   "outputs": [
    {
     "name": "stdout",
     "output_type": "stream",
     "text": [
      "['a', 'b', 'c']\n"
     ]
    }
   ],
   "source": [
    "def my_function(x):\n",
    "    return list(dict.fromkeys(x))\n",
    "\n",
    "mylist = my_function([\"a\", \"b\", \"a\", \"c\", \"c\"])\n",
    "\n",
    "print(mylist)"
   ]
  },
  {
   "cell_type": "markdown",
   "metadata": {},
   "source": [
    "### Exercise 3"
   ]
  },
  {
   "cell_type": "raw",
   "metadata": {},
   "source": [
    "Create a function my_fib which takes an integer n as an argument and calculates and\n",
    "returns the n-th fibonacci number. Don’t use recursion.\n",
    "Note: fib(n) = fib(n-1) + fib(n-2)"
   ]
  },
  {
   "cell_type": "code",
   "execution_count": 29,
   "metadata": {},
   "outputs": [
    {
     "data": {
      "text/plain": [
       "8"
      ]
     },
     "execution_count": 29,
     "metadata": {},
     "output_type": "execute_result"
    }
   ],
   "source": [
    "def my_fib(n):\n",
    "    a = 0\n",
    "    b = 1\n",
    "    if n < 0: \n",
    "        print(\"Incorrect input\") \n",
    "    elif n == 0: \n",
    "        return a \n",
    "    elif n == 1: \n",
    "        return b \n",
    "    else: \n",
    "        for i in range(2,n): \n",
    "            c = a + b \n",
    "            a = b \n",
    "            b = c \n",
    "        return b\n",
    "\n",
    "my_fib(7)\n",
    "\n",
    "### how we can write this function with the fib(n) = fib(n-1) + fib(n-2) function without usin recursion ? "
   ]
  },
  {
   "cell_type": "markdown",
   "metadata": {},
   "source": [
    "### Exercise 4"
   ]
  },
  {
   "cell_type": "raw",
   "metadata": {},
   "source": [
    "Create the class Person.\n",
    "Attributes: name, last_name, age, gender, student (this is a boolean attribute i.e.it\n",
    "takes values True/False), as well as a private attribute password\n",
    "\n",
    "Methods:\n",
    "Greeting(self, second_person) - gets an object of type Person as an input and prints\n",
    "“Welcome dear X.”, where X is the value of the name attribute of second_person.\n",
    "Goodbye(self) - prints “Bye everyone!”\n",
    "\n",
    "Favourite_num(self, num1) - gets an integer num1 as an input and returns the text “My\n",
    "favourite number is num1”, using the value of the attribute num1.\n",
    "\n",
    "Read_file(self, filename) - gets a String filename as an input and tries to read the file\n",
    "with the name “filename.txt”, adding “.txt” at the end of the value of the attribute\n",
    "filename. \n",
    "\n",
    "\n",
    "Use the function open() to open the file. (try to do this on your own :))\n",
    "\n",
    "Add set and get methods for the attribute password."
   ]
  },
  {
   "cell_type": "code",
   "execution_count": 165,
   "metadata": {},
   "outputs": [],
   "source": [
    "class Person:\n",
    "    num_of_person =0\n",
    "    def __init__(self,name,last_name,age,gender,student,password):\n",
    "        self.name = name\n",
    "        self.last_name = last_name\n",
    "        self.gender = gender\n",
    "        self.student = True\n",
    "        self.__password =password\n",
    "        \n",
    "        Person.num_of_person +=1\n",
    "        \n",
    "    def Greeting(self,second_person):\n",
    "        print(\"Welcome dear\" + second_person.name);\n",
    "    \n",
    "    def Goodbye(self):\n",
    "        \n",
    "        print(\"\"\"Bye everyone!\"\"\");     \n",
    "    \n",
    "    def Favourite_num(self,num1):\n",
    "        \n",
    "        print(\"My favourite number\"+ \"str(is)\"+ self.num1);\n",
    "    \n",
    "    def Read_file(self,filename):\n",
    "        f = open(\"filename.txt\", \"r\")\n",
    "        print(f.read());\n",
    "                    \n",
    "    def get_password(self):\n",
    "        return self.__password ;\n",
    "\n",
    "    def set_password(self, password):\n",
    "        self.__password = password\n",
    "        \n",
    "                    "
   ]
  },
  {
   "cell_type": "code",
   "execution_count": 167,
   "metadata": {},
   "outputs": [
    {
     "ename": "TypeError",
     "evalue": "Greeting() missing 1 required positional argument: 'second_person'",
     "output_type": "error",
     "traceback": [
      "\u001b[0;31m---------------------------------------------------------------------------\u001b[0m",
      "\u001b[0;31mTypeError\u001b[0m                                 Traceback (most recent call last)",
      "\u001b[0;32m<ipython-input-167-2d66e32d6942>\u001b[0m in \u001b[0;36m<module>\u001b[0;34m\u001b[0m\n\u001b[1;32m      1\u001b[0m \u001b[0mfirst_person\u001b[0m \u001b[0;34m=\u001b[0m \u001b[0mPerson\u001b[0m\u001b[0;34m(\u001b[0m\u001b[0;34m\"Alisa\"\u001b[0m\u001b[0;34m,\u001b[0m\u001b[0;34m\"Smith\"\u001b[0m\u001b[0;34m,\u001b[0m\u001b[0;36m18\u001b[0m\u001b[0;34m,\u001b[0m\u001b[0;34m\"female\"\u001b[0m\u001b[0;34m,\u001b[0m\u001b[0;34m\"student\"\u001b[0m\u001b[0;34m,\u001b[0m\u001b[0;34m\"1919119fH\"\u001b[0m\u001b[0;34m)\u001b[0m\u001b[0;34m\u001b[0m\u001b[0;34m\u001b[0m\u001b[0m\n\u001b[0;32m----> 2\u001b[0;31m \u001b[0mfirst_person\u001b[0m\u001b[0;34m.\u001b[0m\u001b[0mGreeting\u001b[0m\u001b[0;34m(\u001b[0m\u001b[0;34m)\u001b[0m\u001b[0;34m\u001b[0m\u001b[0;34m\u001b[0m\u001b[0m\n\u001b[0m\u001b[1;32m      3\u001b[0m \u001b[0msecond_person\u001b[0m \u001b[0;34m=\u001b[0m \u001b[0mPerson\u001b[0m\u001b[0;34m(\u001b[0m\u001b[0;34m\"Alina\"\u001b[0m\u001b[0;34m,\u001b[0m\u001b[0;34m\"Smith\"\u001b[0m\u001b[0;34m,\u001b[0m\u001b[0;36m17\u001b[0m\u001b[0;34m,\u001b[0m\u001b[0;34m\"female\"\u001b[0m\u001b[0;34m,\u001b[0m\u001b[0;34m\"student\"\u001b[0m\u001b[0;34m,\u001b[0m\u001b[0;34m\"1919119fH\"\u001b[0m\u001b[0;34m)\u001b[0m\u001b[0;34m\u001b[0m\u001b[0;34m\u001b[0m\u001b[0m\n\u001b[1;32m      4\u001b[0m \u001b[0msecond_person\u001b[0m\u001b[0;34m.\u001b[0m\u001b[0mGreeting\u001b[0m\u001b[0;34m(\u001b[0m\u001b[0;34m)\u001b[0m\u001b[0;34m\u001b[0m\u001b[0;34m\u001b[0m\u001b[0m\n",
      "\u001b[0;31mTypeError\u001b[0m: Greeting() missing 1 required positional argument: 'second_person'"
     ]
    }
   ],
   "source": [
    "second_person = Person(\"Alina\",\"Smith\",17,\"female\",\"student\",\"1919119fH\")\n",
    "second_person.Greeting()"
   ]
  },
  {
   "cell_type": "code",
   "execution_count": null,
   "metadata": {},
   "outputs": [],
   "source": []
  },
  {
   "cell_type": "code",
   "execution_count": null,
   "metadata": {},
   "outputs": [],
   "source": []
  },
  {
   "cell_type": "raw",
   "metadata": {},
   "source": [
    "Create a class Calculation.\n",
    "\n",
    "Attributes: x, y\n",
    "\n",
    "Methods: __init__(self, x, y) -> creates the attributes x and y\n",
    "addition(self) -> prints the sum of the arguments x and y\n",
    "subtraction(self) -> prints the difference of the arguments x and y\n",
    "\n",
    "Create a class MyCalculation which inherits from the class Calculation.\n",
    "Attributes: x, y\n",
    "Methods: __init__(self, x, y) -> calls the __init__ method of the Calculation class with\n",
    "parameters x and y\n",
    "multiplication(self) -> prints the product of the arguments x and y\n",
    "division(self) -> prints the quotient of the arguments x and y\n",
    "Create an object of the MyCalculation class with attribute values 3 and 5 and call the\n",
    "methods addition, subtraction, multiplication and division on it.\n",
    "\n"
   ]
  },
  {
   "cell_type": "code",
   "execution_count": 161,
   "metadata": {},
   "outputs": [],
   "source": [
    "class Calculation:\n",
    "    def __init__(self,x,y):\n",
    "        self.x=x\n",
    "        self.y=y\n",
    "    def addition(self):\n",
    "        print(self.x+self.y)\n",
    "    def subtraction(self):\n",
    "        print(self.x-self.y)\n",
    "        \n",
    "class MyCalculation(Calculation):\n",
    "    def __init__(self,x,y):\n",
    "        self.x=x\n",
    "        self.y=y\n",
    "    def multiplication(self):\n",
    "        print(self.x*self.y)\n",
    "    def division(self):\n",
    "        print(self.x%self.y)\n",
    "    \n"
   ]
  },
  {
   "cell_type": "code",
   "execution_count": 162,
   "metadata": {},
   "outputs": [
    {
     "name": "stdout",
     "output_type": "stream",
     "text": [
      "8\n",
      "-2\n",
      "15\n",
      "3\n"
     ]
    }
   ],
   "source": [
    "c1 = MyCalculation(3,5)\n",
    "c1.addition()\n",
    "c1.subtraction()\n",
    "c1.multiplication()\n",
    "c1.division()\n"
   ]
  },
  {
   "cell_type": "code",
   "execution_count": null,
   "metadata": {},
   "outputs": [],
   "source": []
  }
 ],
 "metadata": {
  "kernelspec": {
   "display_name": "Python 3",
   "language": "python",
   "name": "python3"
  },
  "language_info": {
   "codemirror_mode": {
    "name": "ipython",
    "version": 3
   },
   "file_extension": ".py",
   "mimetype": "text/x-python",
   "name": "python",
   "nbconvert_exporter": "python",
   "pygments_lexer": "ipython3",
   "version": "3.7.6"
  }
 },
 "nbformat": 4,
 "nbformat_minor": 4
}
