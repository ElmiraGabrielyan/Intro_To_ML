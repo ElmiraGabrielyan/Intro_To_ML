{
 "cells": [
  {
   "cell_type": "markdown",
   "metadata": {},
   "source": [
    "### Exercise1"
   ]
  },
  {
   "cell_type": "raw",
   "metadata": {},
   "source": [
    "Create the list list1, which contains some values of your choice. Get one value, using\n",
    "the input() function, and check how many times the given value appears in the list list1.\n",
    "\n",
    "Print the result in the following format:\n",
    "(in this example user input is 2, the list2 is [0, ‘hi’, 2, 100, 300, 2])\n",
    "list2 = [0, ‘hi’, 2, 100, 300, 2]\n",
    "Number of 2s = 2"
   ]
  },
  {
   "cell_type": "code",
   "execution_count": 7,
   "metadata": {},
   "outputs": [
    {
     "name": "stdin",
     "output_type": "stream",
     "text": [
      " 4\n"
     ]
    }
   ],
   "source": [
    "list1 = [1,3,4,7,'name','summer',9,4,13]\n",
    "list2 = int(input())"
   ]
  },
  {
   "cell_type": "code",
   "execution_count": 8,
   "metadata": {},
   "outputs": [
    {
     "data": {
      "text/plain": [
       "2"
      ]
     },
     "execution_count": 8,
     "metadata": {},
     "output_type": "execute_result"
    }
   ],
   "source": [
    "list1.count(list2)\n"
   ]
  },
  {
   "cell_type": "markdown",
   "metadata": {},
   "source": [
    "### Exercise 2"
   ]
  },
  {
   "cell_type": "raw",
   "metadata": {},
   "source": [
    "Create the tuple t2 containing some values of your choice. \n",
    "Replace the value at index 4 by the value “hello”. \n",
    "Print the tuple t2 before and after the change. Note that the tuples are immutable i.e. cannot be modified."
   ]
  },
  {
   "cell_type": "code",
   "execution_count": 14,
   "metadata": {},
   "outputs": [
    {
     "name": "stdout",
     "output_type": "stream",
     "text": [
      "(1, 2, 3, 4, 'singer', 'songs', 'a song')\n"
     ]
    }
   ],
   "source": [
    "t2 = (1,2,3,4,5,'songs', 'a song')\n",
    "t3 = list(t2)\n",
    "t3[4] = \"singer\"\n",
    "t2 = tuple(t3)\n",
    "\n",
    "print(t2)"
   ]
  },
  {
   "cell_type": "markdown",
   "metadata": {},
   "source": [
    "#### Exercise 3"
   ]
  },
  {
   "cell_type": "raw",
   "metadata": {},
   "source": [
    "#### Create the dictionary d with the following values {“name”: “Armen”, “age”: 15, “grades”:\n",
    "[10, 8, 8, 4, 6, 7] }. Write the following program:\n",
    "If the dictionary d doesn’t contain a key “weight”\n",
    "=> take a number n of type int as a user input (using the function input()) \n",
    "and add the key:value pair “weight” : n to the\n",
    "dictionary d. \n",
    "Otherwise, if the dictionary d contains a key “weight”, print the value at the\n",
    "key “weight”."
   ]
  },
  {
   "cell_type": "code",
   "execution_count": 53,
   "metadata": {},
   "outputs": [
    {
     "name": "stdout",
     "output_type": "stream",
     "text": [
      "{'name': 'Armen', 'age': 15, 'grades': [10, 8, 8, 4, 6, 7]}\n"
     ]
    }
   ],
   "source": [
    "d = {'name' : 'Armen', 'age': 15, 'grades' :[10, 8, 8, 4, 6, 7] }\n",
    "print(d)"
   ]
  },
  {
   "cell_type": "code",
   "execution_count": 54,
   "metadata": {},
   "outputs": [
    {
     "name": "stdin",
     "output_type": "stream",
     "text": [
      " n\n"
     ]
    }
   ],
   "source": [
    " if \"weight\" not in d.keys():\n",
    "    d1 = input()\n",
    "    d.update({\"weight\":d1})\n",
    "    "
   ]
  },
  {
   "cell_type": "code",
   "execution_count": 55,
   "metadata": {},
   "outputs": [
    {
     "name": "stdout",
     "output_type": "stream",
     "text": [
      "{'name': 'Armen', 'age': 15, 'grades': [10, 8, 8, 4, 6, 7], 'weight': 'n'}\n"
     ]
    }
   ],
   "source": [
    "print(d)"
   ]
  },
  {
   "cell_type": "markdown",
   "metadata": {},
   "source": [
    "### Exercise 4 "
   ]
  },
  {
   "cell_type": "raw",
   "metadata": {},
   "source": [
    "Create the variable correct_num = 5, \n",
    "create the variable guess and assign it a value of\n",
    "type int that you should get as a user input (using the function input()). \n",
    "Use a loop and repeat the following action 10 times: if the number guess guessed by the user is equal\n",
    "to correct_num, \n",
    "then print \"That was a good guess!\" and stop the loop, \n",
    "otherwise take another input from the user and check again."
   ]
  },
  {
   "cell_type": "code",
   "execution_count": 16,
   "metadata": {},
   "outputs": [
    {
     "name": "stdin",
     "output_type": "stream",
     "text": [
      " 9\n",
      " 1\n",
      " 3\n",
      " 5\n"
     ]
    },
    {
     "name": "stdout",
     "output_type": "stream",
     "text": [
      "That was a good guess!\n"
     ]
    }
   ],
   "source": [
    "correct_num = 5\n",
    "\n",
    "for i in range(10):\n",
    "    guess = int(input())\n",
    "    if (guess == correct_num):\n",
    "        print(\"That was a good guess!\")\n",
    "        break\n",
    "        "
   ]
  },
  {
   "cell_type": "markdown",
   "metadata": {},
   "source": [
    "### Exercise 5"
   ]
  },
  {
   "cell_type": "raw",
   "metadata": {},
   "source": [
    "Create the list list1 with the following values ['a', 'abc', 'xyz', 's', 'aba', '1221']։ Count how\n",
    "many items from the list list1 are at least of length 2 and have the same first and last\n",
    "characters (i.e. ‘ala’,’sbhcues’, etc.). Print the result. Use list comprehension."
   ]
  },
  {
   "cell_type": "code",
   "execution_count": 20,
   "metadata": {},
   "outputs": [
    {
     "name": "stdout",
     "output_type": "stream",
     "text": [
      "['a', 'abc', 'xyz', 's', 'aba', '1221']\n"
     ]
    }
   ],
   "source": [
    "list5 = ['a', 'abc', 'xyz', 's', 'aba', '1221']\n",
    "print(list5)\n",
    "\n"
   ]
  },
  {
   "cell_type": "code",
   "execution_count": 49,
   "metadata": {},
   "outputs": [
    {
     "data": {
      "text/plain": [
       "2"
      ]
     },
     "execution_count": 49,
     "metadata": {},
     "output_type": "execute_result"
    }
   ],
   "source": [
    "list6= [ x for x in list5 if len(x)>=2 and x[0]==x[-1]]\n",
    "len(list6)\n"
   ]
  }
 ],
 "metadata": {
  "kernelspec": {
   "display_name": "Python 3",
   "language": "python",
   "name": "python3"
  },
  "language_info": {
   "codemirror_mode": {
    "name": "ipython",
    "version": 3
   },
   "file_extension": ".py",
   "mimetype": "text/x-python",
   "name": "python",
   "nbconvert_exporter": "python",
   "pygments_lexer": "ipython3",
   "version": "3.7.6"
  }
 },
 "nbformat": 4,
 "nbformat_minor": 4
}
